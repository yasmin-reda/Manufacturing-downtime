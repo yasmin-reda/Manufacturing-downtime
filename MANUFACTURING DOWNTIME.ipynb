{
  "cells": [
    {
      "cell_type": "markdown",
      "metadata": {
        "id": "view-in-github",
        "colab_type": "text"
      },
      "source": [
        "<a href=\"https://colab.research.google.com/github/yasmin-reda/Manufacturing-downtime/blob/main/MANUFACTURING%20DOWNTIME.ipynb\" target=\"_parent\"><img src=\"https://colab.research.google.com/assets/colab-badge.svg\" alt=\"Open In Colab\"/></a>"
      ]
    },
    {
      "cell_type": "code",
      "execution_count": null,
      "id": "fc321575",
      "metadata": {
        "id": "fc321575"
      },
      "outputs": [],
      "source": [
        "from sqlalchemy import create_engine\n",
        "import pandas as pd\n",
        "import numpy as np\n",
        "import matplotlib.pyplot as plt\n",
        "import seaborn as sns\n",
        "import warnings\n",
        "warnings.filterwarnings(\"ignore\")"
      ]
    },
    {
      "cell_type": "code",
      "execution_count": null,
      "id": "907a65ba",
      "metadata": {
        "id": "907a65ba"
      },
      "outputs": [],
      "source": [
        "\n",
        "server = 'DESKTOP-O1F5FCR\\SQLEXPRESS'\n",
        "database ='yousef'\n",
        "username = ''\n",
        "password = ''\n",
        "connection_string = f\"mssql+pyodbc://{username}:{password}@{server}/{database}?driver=ODBC+Driver+17+for+SQL+Server\"\n",
        "engine = create_engine(connection_string)"
      ]
    },
    {
      "cell_type": "code",
      "execution_count": null,
      "id": "92581506",
      "metadata": {
        "id": "92581506"
      },
      "outputs": [],
      "source": [
        "df = pd.read_excel(r'D:\\season\\Final project\\Datasets\\Datasets\\Manufacturing Downtime\\Manufacturing_Line_Productivity.xlsx',sheet_name='Line productivity')\n",
        "ds = pd.read_excel(r'D:\\season\\Final project\\Datasets\\Datasets\\Manufacturing Downtime\\Manufacturing_Line_Productivity.xlsx',sheet_name='Products')\n",
        "da = pd.read_excel(r'D:\\season\\Final project\\Datasets\\Datasets\\Manufacturing Downtime\\Manufacturing_Line_Productivity.xlsx',sheet_name='Downtime factors')\n",
        "dw = pd.read_excel(r'D:\\season\\Final project\\Datasets\\Datasets\\Manufacturing Downtime\\Manufacturing_Line_Productivity.xlsx',sheet_name='Line downtime')"
      ]
    },
    {
      "cell_type": "code",
      "execution_count": null,
      "id": "b4e38122",
      "metadata": {
        "id": "b4e38122"
      },
      "outputs": [],
      "source": [
        "df = pd.merge(df,ds,on = 'Product',how = 'left')"
      ]
    },
    {
      "cell_type": "code",
      "execution_count": null,
      "id": "b7c3af62",
      "metadata": {
        "id": "b7c3af62",
        "outputId": "7426e8b2-4bf8-4ab9-9c3d-9b558121ba25"
      },
      "outputs": [
        {
          "data": {
            "text/html": [
              "<div>\n",
              "<style scoped>\n",
              "    .dataframe tbody tr th:only-of-type {\n",
              "        vertical-align: middle;\n",
              "    }\n",
              "\n",
              "    .dataframe tbody tr th {\n",
              "        vertical-align: top;\n",
              "    }\n",
              "\n",
              "    .dataframe thead th {\n",
              "        text-align: right;\n",
              "    }\n",
              "</style>\n",
              "<table border=\"1\" class=\"dataframe\">\n",
              "  <thead>\n",
              "    <tr style=\"text-align: right;\">\n",
              "      <th></th>\n",
              "      <th>Batch</th>\n",
              "      <th>Factor</th>\n",
              "      <th>Duration</th>\n",
              "    </tr>\n",
              "  </thead>\n",
              "  <tbody>\n",
              "    <tr>\n",
              "      <th>38</th>\n",
              "      <td>422111</td>\n",
              "      <td>2</td>\n",
              "      <td>60.0</td>\n",
              "    </tr>\n",
              "    <tr>\n",
              "      <th>39</th>\n",
              "      <td>422112</td>\n",
              "      <td>2</td>\n",
              "      <td>20.0</td>\n",
              "    </tr>\n",
              "    <tr>\n",
              "      <th>40</th>\n",
              "      <td>422113</td>\n",
              "      <td>2</td>\n",
              "      <td>50.0</td>\n",
              "    </tr>\n",
              "    <tr>\n",
              "      <th>44</th>\n",
              "      <td>422117</td>\n",
              "      <td>2</td>\n",
              "      <td>10.0</td>\n",
              "    </tr>\n",
              "    <tr>\n",
              "      <th>57</th>\n",
              "      <td>422130</td>\n",
              "      <td>2</td>\n",
              "      <td>20.0</td>\n",
              "    </tr>\n",
              "    <tr>\n",
              "      <th>...</th>\n",
              "      <td>...</td>\n",
              "      <td>...</td>\n",
              "      <td>...</td>\n",
              "    </tr>\n",
              "    <tr>\n",
              "      <th>432</th>\n",
              "      <td>422125</td>\n",
              "      <td>12</td>\n",
              "      <td>10.0</td>\n",
              "    </tr>\n",
              "    <tr>\n",
              "      <th>436</th>\n",
              "      <td>422129</td>\n",
              "      <td>12</td>\n",
              "      <td>15.0</td>\n",
              "    </tr>\n",
              "    <tr>\n",
              "      <th>442</th>\n",
              "      <td>422135</td>\n",
              "      <td>12</td>\n",
              "      <td>15.0</td>\n",
              "    </tr>\n",
              "    <tr>\n",
              "      <th>448</th>\n",
              "      <td>422141</td>\n",
              "      <td>12</td>\n",
              "      <td>7.0</td>\n",
              "    </tr>\n",
              "    <tr>\n",
              "      <th>453</th>\n",
              "      <td>422146</td>\n",
              "      <td>12</td>\n",
              "      <td>7.0</td>\n",
              "    </tr>\n",
              "  </tbody>\n",
              "</table>\n",
              "<p>61 rows × 3 columns</p>\n",
              "</div>"
            ],
            "text/plain": [
              "      Batch  Factor  Duration\n",
              "38   422111       2      60.0\n",
              "39   422112       2      20.0\n",
              "40   422113       2      50.0\n",
              "44   422117       2      10.0\n",
              "57   422130       2      20.0\n",
              "..      ...     ...       ...\n",
              "432  422125      12      10.0\n",
              "436  422129      12      15.0\n",
              "442  422135      12      15.0\n",
              "448  422141      12       7.0\n",
              "453  422146      12       7.0\n",
              "\n",
              "[61 rows x 3 columns]"
            ]
          },
          "execution_count": 12,
          "metadata": {},
          "output_type": "execute_result"
        }
      ],
      "source": [
        "downtime_long = dw.melt(id_vars=\"Batch\", var_name=\"Factor\", value_name=\"Duration\")\n",
        "downtime_long = downtime_long.dropna()\n",
        "downtime_long[\"Factor\"] = downtime_long[\"Factor\"].astype(int)\n",
        "merged = pd.merge(downtime_long, da, on=\"Factor\", how=\"left\")\n",
        "\n",
        "downtime_long\n"
      ]
    },
    {
      "cell_type": "code",
      "execution_count": null,
      "id": "4142ddb3",
      "metadata": {
        "id": "4142ddb3",
        "outputId": "f49b0c22-117b-4681-dfea-8dc102bf4957"
      },
      "outputs": [
        {
          "data": {
            "text/html": [
              "<div>\n",
              "<style scoped>\n",
              "    .dataframe tbody tr th:only-of-type {\n",
              "        vertical-align: middle;\n",
              "    }\n",
              "\n",
              "    .dataframe tbody tr th {\n",
              "        vertical-align: top;\n",
              "    }\n",
              "\n",
              "    .dataframe thead th {\n",
              "        text-align: right;\n",
              "    }\n",
              "</style>\n",
              "<table border=\"1\" class=\"dataframe\">\n",
              "  <thead>\n",
              "    <tr style=\"text-align: right;\">\n",
              "      <th></th>\n",
              "      <th>Date</th>\n",
              "      <th>Product</th>\n",
              "      <th>Batch</th>\n",
              "      <th>Operator</th>\n",
              "      <th>Start Time</th>\n",
              "      <th>End Time</th>\n",
              "      <th>Flavor</th>\n",
              "      <th>Size</th>\n",
              "      <th>Min batch time</th>\n",
              "      <th>Factor</th>\n",
              "      <th>Duration</th>\n",
              "      <th>Description</th>\n",
              "      <th>Operator Error</th>\n",
              "    </tr>\n",
              "  </thead>\n",
              "  <tbody>\n",
              "    <tr>\n",
              "      <th>0</th>\n",
              "      <td>2024-08-29</td>\n",
              "      <td>OR-600</td>\n",
              "      <td>422111</td>\n",
              "      <td>Mac</td>\n",
              "      <td>11:50:00</td>\n",
              "      <td>14:05:00</td>\n",
              "      <td>Orange</td>\n",
              "      <td>600 ml</td>\n",
              "      <td>60</td>\n",
              "      <td>2.0</td>\n",
              "      <td>60.0</td>\n",
              "      <td>Batch change</td>\n",
              "      <td>Yes</td>\n",
              "    </tr>\n",
              "    <tr>\n",
              "      <th>1</th>\n",
              "      <td>2024-08-29</td>\n",
              "      <td>OR-600</td>\n",
              "      <td>422111</td>\n",
              "      <td>Mac</td>\n",
              "      <td>11:50:00</td>\n",
              "      <td>14:05:00</td>\n",
              "      <td>Orange</td>\n",
              "      <td>600 ml</td>\n",
              "      <td>60</td>\n",
              "      <td>7.0</td>\n",
              "      <td>15.0</td>\n",
              "      <td>Machine failure</td>\n",
              "      <td>No</td>\n",
              "    </tr>\n",
              "    <tr>\n",
              "      <th>2</th>\n",
              "      <td>2024-08-29</td>\n",
              "      <td>LE-600</td>\n",
              "      <td>422112</td>\n",
              "      <td>Mac</td>\n",
              "      <td>14:05:00</td>\n",
              "      <td>15:45:00</td>\n",
              "      <td>Lemon lime</td>\n",
              "      <td>600 ml</td>\n",
              "      <td>60</td>\n",
              "      <td>2.0</td>\n",
              "      <td>20.0</td>\n",
              "      <td>Batch change</td>\n",
              "      <td>Yes</td>\n",
              "    </tr>\n",
              "    <tr>\n",
              "      <th>3</th>\n",
              "      <td>2024-08-29</td>\n",
              "      <td>LE-600</td>\n",
              "      <td>422112</td>\n",
              "      <td>Mac</td>\n",
              "      <td>14:05:00</td>\n",
              "      <td>15:45:00</td>\n",
              "      <td>Lemon lime</td>\n",
              "      <td>600 ml</td>\n",
              "      <td>60</td>\n",
              "      <td>8.0</td>\n",
              "      <td>20.0</td>\n",
              "      <td>Batch coding error</td>\n",
              "      <td>Yes</td>\n",
              "    </tr>\n",
              "    <tr>\n",
              "      <th>4</th>\n",
              "      <td>2024-08-29</td>\n",
              "      <td>LE-600</td>\n",
              "      <td>422113</td>\n",
              "      <td>Mac</td>\n",
              "      <td>15:45:00</td>\n",
              "      <td>17:35:00</td>\n",
              "      <td>Lemon lime</td>\n",
              "      <td>600 ml</td>\n",
              "      <td>60</td>\n",
              "      <td>2.0</td>\n",
              "      <td>50.0</td>\n",
              "      <td>Batch change</td>\n",
              "      <td>Yes</td>\n",
              "    </tr>\n",
              "    <tr>\n",
              "      <th>...</th>\n",
              "      <td>...</td>\n",
              "      <td>...</td>\n",
              "      <td>...</td>\n",
              "      <td>...</td>\n",
              "      <td>...</td>\n",
              "      <td>...</td>\n",
              "      <td>...</td>\n",
              "      <td>...</td>\n",
              "      <td>...</td>\n",
              "      <td>...</td>\n",
              "      <td>...</td>\n",
              "      <td>...</td>\n",
              "      <td>...</td>\n",
              "    </tr>\n",
              "    <tr>\n",
              "      <th>59</th>\n",
              "      <td>2024-09-02</td>\n",
              "      <td>CO-2L</td>\n",
              "      <td>422147</td>\n",
              "      <td>Charlie</td>\n",
              "      <td>19:30:00</td>\n",
              "      <td>22:55:00</td>\n",
              "      <td>Cola</td>\n",
              "      <td>2 L</td>\n",
              "      <td>98</td>\n",
              "      <td>4.0</td>\n",
              "      <td>17.0</td>\n",
              "      <td>Inventory shortage</td>\n",
              "      <td>No</td>\n",
              "    </tr>\n",
              "    <tr>\n",
              "      <th>60</th>\n",
              "      <td>2024-09-02</td>\n",
              "      <td>CO-2L</td>\n",
              "      <td>422147</td>\n",
              "      <td>Charlie</td>\n",
              "      <td>19:30:00</td>\n",
              "      <td>22:55:00</td>\n",
              "      <td>Cola</td>\n",
              "      <td>2 L</td>\n",
              "      <td>98</td>\n",
              "      <td>6.0</td>\n",
              "      <td>60.0</td>\n",
              "      <td>Machine adjustment</td>\n",
              "      <td>Yes</td>\n",
              "    </tr>\n",
              "    <tr>\n",
              "      <th>61</th>\n",
              "      <td>2024-09-02</td>\n",
              "      <td>CO-2L</td>\n",
              "      <td>422147</td>\n",
              "      <td>Charlie</td>\n",
              "      <td>19:30:00</td>\n",
              "      <td>22:55:00</td>\n",
              "      <td>Cola</td>\n",
              "      <td>2 L</td>\n",
              "      <td>98</td>\n",
              "      <td>7.0</td>\n",
              "      <td>30.0</td>\n",
              "      <td>Machine failure</td>\n",
              "      <td>No</td>\n",
              "    </tr>\n",
              "    <tr>\n",
              "      <th>62</th>\n",
              "      <td>2024-09-03</td>\n",
              "      <td>CO-2L</td>\n",
              "      <td>422148</td>\n",
              "      <td>Mac</td>\n",
              "      <td>22:55:00</td>\n",
              "      <td>01:05:00</td>\n",
              "      <td>Cola</td>\n",
              "      <td>2 L</td>\n",
              "      <td>98</td>\n",
              "      <td>4.0</td>\n",
              "      <td>25.0</td>\n",
              "      <td>Inventory shortage</td>\n",
              "      <td>No</td>\n",
              "    </tr>\n",
              "    <tr>\n",
              "      <th>63</th>\n",
              "      <td>2024-09-03</td>\n",
              "      <td>CO-2L</td>\n",
              "      <td>422148</td>\n",
              "      <td>Mac</td>\n",
              "      <td>22:55:00</td>\n",
              "      <td>01:05:00</td>\n",
              "      <td>Cola</td>\n",
              "      <td>2 L</td>\n",
              "      <td>98</td>\n",
              "      <td>8.0</td>\n",
              "      <td>7.0</td>\n",
              "      <td>Batch coding error</td>\n",
              "      <td>Yes</td>\n",
              "    </tr>\n",
              "  </tbody>\n",
              "</table>\n",
              "<p>64 rows × 13 columns</p>\n",
              "</div>"
            ],
            "text/plain": [
              "         Date Product   Batch Operator Start Time  End Time      Flavor  \\\n",
              "0  2024-08-29  OR-600  422111      Mac   11:50:00  14:05:00      Orange   \n",
              "1  2024-08-29  OR-600  422111      Mac   11:50:00  14:05:00      Orange   \n",
              "2  2024-08-29  LE-600  422112      Mac   14:05:00  15:45:00  Lemon lime   \n",
              "3  2024-08-29  LE-600  422112      Mac   14:05:00  15:45:00  Lemon lime   \n",
              "4  2024-08-29  LE-600  422113      Mac   15:45:00  17:35:00  Lemon lime   \n",
              "..        ...     ...     ...      ...        ...       ...         ...   \n",
              "59 2024-09-02   CO-2L  422147  Charlie   19:30:00  22:55:00        Cola   \n",
              "60 2024-09-02   CO-2L  422147  Charlie   19:30:00  22:55:00        Cola   \n",
              "61 2024-09-02   CO-2L  422147  Charlie   19:30:00  22:55:00        Cola   \n",
              "62 2024-09-03   CO-2L  422148      Mac   22:55:00  01:05:00        Cola   \n",
              "63 2024-09-03   CO-2L  422148      Mac   22:55:00  01:05:00        Cola   \n",
              "\n",
              "      Size  Min batch time  Factor  Duration         Description  \\\n",
              "0   600 ml              60     2.0      60.0        Batch change   \n",
              "1   600 ml              60     7.0      15.0     Machine failure   \n",
              "2   600 ml              60     2.0      20.0        Batch change   \n",
              "3   600 ml              60     8.0      20.0  Batch coding error   \n",
              "4   600 ml              60     2.0      50.0        Batch change   \n",
              "..     ...             ...     ...       ...                 ...   \n",
              "59     2 L              98     4.0      17.0  Inventory shortage   \n",
              "60     2 L              98     6.0      60.0  Machine adjustment   \n",
              "61     2 L              98     7.0      30.0     Machine failure   \n",
              "62     2 L              98     4.0      25.0  Inventory shortage   \n",
              "63     2 L              98     8.0       7.0  Batch coding error   \n",
              "\n",
              "   Operator Error  \n",
              "0             Yes  \n",
              "1              No  \n",
              "2             Yes  \n",
              "3             Yes  \n",
              "4             Yes  \n",
              "..            ...  \n",
              "59             No  \n",
              "60            Yes  \n",
              "61             No  \n",
              "62             No  \n",
              "63            Yes  \n",
              "\n",
              "[64 rows x 13 columns]"
            ]
          },
          "execution_count": 13,
          "metadata": {},
          "output_type": "execute_result"
        }
      ],
      "source": [
        "df = pd.merge(df,merged,on = 'Batch',how = 'left')\n",
        "df"
      ]
    },
    {
      "cell_type": "code",
      "execution_count": null,
      "id": "f6af1236",
      "metadata": {
        "id": "f6af1236",
        "outputId": "041f6a53-84ca-41de-e517-a9bf30b9c750"
      },
      "outputs": [
        {
          "data": {
            "text/plain": [
              "64"
            ]
          },
          "execution_count": 14,
          "metadata": {},
          "output_type": "execute_result"
        }
      ],
      "source": [
        "df.to_sql('Manufacturing',con=engine,if_exists='replace',index=False,chunksize=1000)"
      ]
    },
    {
      "cell_type": "code",
      "execution_count": null,
      "id": "c139575e",
      "metadata": {
        "id": "c139575e",
        "outputId": "50d2f43b-36c6-42b4-b582-b4cd154a0164"
      },
      "outputs": [
        {
          "name": "stdout",
          "output_type": "stream",
          "text": [
            "<class 'pandas.core.frame.DataFrame'>\n",
            "RangeIndex: 64 entries, 0 to 63\n",
            "Data columns (total 13 columns):\n",
            " #   Column          Non-Null Count  Dtype         \n",
            "---  ------          --------------  -----         \n",
            " 0   Date            64 non-null     datetime64[ns]\n",
            " 1   Product         64 non-null     object        \n",
            " 2   Batch           64 non-null     int64         \n",
            " 3   Operator        64 non-null     object        \n",
            " 4   Start Time      64 non-null     object        \n",
            " 5   End Time        64 non-null     object        \n",
            " 6   Flavor          64 non-null     object        \n",
            " 7   Size            64 non-null     object        \n",
            " 8   Min batch time  64 non-null     int64         \n",
            " 9   Factor          61 non-null     float64       \n",
            " 10  Duration        61 non-null     float64       \n",
            " 11  Description     61 non-null     object        \n",
            " 12  Operator Error  61 non-null     object        \n",
            "dtypes: datetime64[ns](1), float64(2), int64(2), object(8)\n",
            "memory usage: 6.6+ KB\n"
          ]
        }
      ],
      "source": [
        "df.info()"
      ]
    },
    {
      "cell_type": "code",
      "execution_count": null,
      "id": "d68cf5af",
      "metadata": {
        "id": "d68cf5af"
      },
      "outputs": [],
      "source": [
        "query =\"\"\"WITH\n",
        "mode_Factor AS (\n",
        "    SELECT TOP 1 Factor\n",
        "    FROM Manufacturing\n",
        "    GROUP BY Factor\n",
        "    ORDER BY COUNT(*) DESC\n",
        "),\n",
        "mode_Duration AS (\n",
        "    SELECT TOP 1 Duration\n",
        "    FROM Manufacturing\n",
        "    GROUP BY Duration\n",
        "    ORDER BY COUNT(*) DESC\n",
        "),\n",
        "mode_Description AS (\n",
        "    SELECT TOP 1 Description\n",
        "    FROM Manufacturing\n",
        "    GROUP BY Description\n",
        "    ORDER BY COUNT(*) DESC\n",
        "),\n",
        "mode_OperatorError AS (\n",
        "    SELECT TOP 1 OperatorError\n",
        "    FROM Manufacturing\n",
        "    GROUP BY OperatorError\n",
        "    ORDER BY COUNT(*) DESC\n",
        ")\n",
        "UPDATE Manufacturing\n",
        "SET\n",
        "Factor=  COALESCE(Factor, (SELECT MAX(Factor) FROM mode_Factor)),\n",
        "Duration=   COALESCE(Duration, (SELECT MAX(Duration) FROM mode_Duration)),\n",
        "Description=    COALESCE(Description, (SELECT MAX(Description) FROM mode_Description)),\n",
        "OperatorError=\tCOALESCE(OperatorError, (SELECT MAX(OperatorError) FROM mode_OperatorError))\n",
        "WHERE\n",
        "Factor IS NULL OR Duration IS NULL OR Description IS NULL OR OperatorError IS NULL ;\n",
        "\n",
        "\"\"\"\n",
        "\n",
        "query2 =\"\"\"SELECT *\n",
        "FROM Manufacturing\n",
        "ORDER BY Factor ASC;\n",
        "\n",
        "\"\"\"\n",
        "\n",
        "\n"
      ]
    },
    {
      "cell_type": "code",
      "execution_count": null,
      "id": "24b6b90c",
      "metadata": {
        "id": "24b6b90c",
        "outputId": "e0f661e2-4b16-4daa-f65d-4ef2540900eb"
      },
      "outputs": [
        {
          "data": {
            "text/html": [
              "<div>\n",
              "<style scoped>\n",
              "    .dataframe tbody tr th:only-of-type {\n",
              "        vertical-align: middle;\n",
              "    }\n",
              "\n",
              "    .dataframe tbody tr th {\n",
              "        vertical-align: top;\n",
              "    }\n",
              "\n",
              "    .dataframe thead th {\n",
              "        text-align: right;\n",
              "    }\n",
              "</style>\n",
              "<table border=\"1\" class=\"dataframe\">\n",
              "  <thead>\n",
              "    <tr style=\"text-align: right;\">\n",
              "      <th></th>\n",
              "      <th>Date</th>\n",
              "      <th>Product</th>\n",
              "      <th>Batch</th>\n",
              "      <th>Operator</th>\n",
              "      <th>Start Time</th>\n",
              "      <th>End Time</th>\n",
              "      <th>Flavor</th>\n",
              "      <th>Size</th>\n",
              "      <th>Min batch time</th>\n",
              "      <th>Factor</th>\n",
              "      <th>Duration</th>\n",
              "      <th>Description</th>\n",
              "      <th>OperatorError</th>\n",
              "    </tr>\n",
              "  </thead>\n",
              "  <tbody>\n",
              "    <tr>\n",
              "      <th>0</th>\n",
              "      <td>2024-08-29</td>\n",
              "      <td>OR-600</td>\n",
              "      <td>422111</td>\n",
              "      <td>Mac</td>\n",
              "      <td>11:50:00</td>\n",
              "      <td>14:05:00</td>\n",
              "      <td>Orange</td>\n",
              "      <td>600 ml</td>\n",
              "      <td>60</td>\n",
              "      <td>2.0</td>\n",
              "      <td>60.0</td>\n",
              "      <td>Batch change</td>\n",
              "      <td>Yes</td>\n",
              "    </tr>\n",
              "    <tr>\n",
              "      <th>1</th>\n",
              "      <td>2024-08-29</td>\n",
              "      <td>LE-600</td>\n",
              "      <td>422112</td>\n",
              "      <td>Mac</td>\n",
              "      <td>14:05:00</td>\n",
              "      <td>15:45:00</td>\n",
              "      <td>Lemon lime</td>\n",
              "      <td>600 ml</td>\n",
              "      <td>60</td>\n",
              "      <td>2.0</td>\n",
              "      <td>20.0</td>\n",
              "      <td>Batch change</td>\n",
              "      <td>Yes</td>\n",
              "    </tr>\n",
              "    <tr>\n",
              "      <th>2</th>\n",
              "      <td>2024-08-29</td>\n",
              "      <td>LE-600</td>\n",
              "      <td>422113</td>\n",
              "      <td>Mac</td>\n",
              "      <td>15:45:00</td>\n",
              "      <td>17:35:00</td>\n",
              "      <td>Lemon lime</td>\n",
              "      <td>600 ml</td>\n",
              "      <td>60</td>\n",
              "      <td>2.0</td>\n",
              "      <td>50.0</td>\n",
              "      <td>Batch change</td>\n",
              "      <td>Yes</td>\n",
              "    </tr>\n",
              "    <tr>\n",
              "      <th>3</th>\n",
              "      <td>2024-08-29</td>\n",
              "      <td>LE-600</td>\n",
              "      <td>422117</td>\n",
              "      <td>Charlie</td>\n",
              "      <td>21:39:00</td>\n",
              "      <td>22:54:00</td>\n",
              "      <td>Lemon lime</td>\n",
              "      <td>600 ml</td>\n",
              "      <td>60</td>\n",
              "      <td>2.0</td>\n",
              "      <td>10.0</td>\n",
              "      <td>Batch change</td>\n",
              "      <td>Yes</td>\n",
              "    </tr>\n",
              "    <tr>\n",
              "      <th>4</th>\n",
              "      <td>2024-08-31</td>\n",
              "      <td>CO-600</td>\n",
              "      <td>422130</td>\n",
              "      <td>Dee</td>\n",
              "      <td>07:45:00</td>\n",
              "      <td>09:05:00</td>\n",
              "      <td>Cola</td>\n",
              "      <td>600 ml</td>\n",
              "      <td>60</td>\n",
              "      <td>2.0</td>\n",
              "      <td>20.0</td>\n",
              "      <td>Batch change</td>\n",
              "      <td>Yes</td>\n",
              "    </tr>\n",
              "    <tr>\n",
              "      <th>...</th>\n",
              "      <td>...</td>\n",
              "      <td>...</td>\n",
              "      <td>...</td>\n",
              "      <td>...</td>\n",
              "      <td>...</td>\n",
              "      <td>...</td>\n",
              "      <td>...</td>\n",
              "      <td>...</td>\n",
              "      <td>...</td>\n",
              "      <td>...</td>\n",
              "      <td>...</td>\n",
              "      <td>...</td>\n",
              "      <td>...</td>\n",
              "    </tr>\n",
              "    <tr>\n",
              "      <th>59</th>\n",
              "      <td>2024-08-30</td>\n",
              "      <td>CO-600</td>\n",
              "      <td>422129</td>\n",
              "      <td>Charlie</td>\n",
              "      <td>22:14:00</td>\n",
              "      <td>23:29:00</td>\n",
              "      <td>Cola</td>\n",
              "      <td>600 ml</td>\n",
              "      <td>60</td>\n",
              "      <td>12.0</td>\n",
              "      <td>15.0</td>\n",
              "      <td>Other</td>\n",
              "      <td>No</td>\n",
              "    </tr>\n",
              "    <tr>\n",
              "      <th>60</th>\n",
              "      <td>2024-08-30</td>\n",
              "      <td>CO-600</td>\n",
              "      <td>422118</td>\n",
              "      <td>Dee</td>\n",
              "      <td>04:05:00</td>\n",
              "      <td>06:05:00</td>\n",
              "      <td>Cola</td>\n",
              "      <td>600 ml</td>\n",
              "      <td>60</td>\n",
              "      <td>12.0</td>\n",
              "      <td>20.0</td>\n",
              "      <td>Other</td>\n",
              "      <td>No</td>\n",
              "    </tr>\n",
              "    <tr>\n",
              "      <th>61</th>\n",
              "      <td>2024-09-02</td>\n",
              "      <td>RB-600</td>\n",
              "      <td>422141</td>\n",
              "      <td>Dennis</td>\n",
              "      <td>07:43:00</td>\n",
              "      <td>08:50:00</td>\n",
              "      <td>Root Berry</td>\n",
              "      <td>600 ml</td>\n",
              "      <td>60</td>\n",
              "      <td>12.0</td>\n",
              "      <td>7.0</td>\n",
              "      <td>Other</td>\n",
              "      <td>No</td>\n",
              "    </tr>\n",
              "    <tr>\n",
              "      <th>62</th>\n",
              "      <td>2024-08-31</td>\n",
              "      <td>DC-600</td>\n",
              "      <td>422135</td>\n",
              "      <td>Mac</td>\n",
              "      <td>14:45:00</td>\n",
              "      <td>16:30:00</td>\n",
              "      <td>Diet Cola</td>\n",
              "      <td>600 ml</td>\n",
              "      <td>60</td>\n",
              "      <td>12.0</td>\n",
              "      <td>15.0</td>\n",
              "      <td>Other</td>\n",
              "      <td>No</td>\n",
              "    </tr>\n",
              "    <tr>\n",
              "      <th>63</th>\n",
              "      <td>2024-09-02</td>\n",
              "      <td>CO-2L</td>\n",
              "      <td>422146</td>\n",
              "      <td>Charlie</td>\n",
              "      <td>16:50:00</td>\n",
              "      <td>19:30:00</td>\n",
              "      <td>Cola</td>\n",
              "      <td>2 L</td>\n",
              "      <td>98</td>\n",
              "      <td>12.0</td>\n",
              "      <td>7.0</td>\n",
              "      <td>Other</td>\n",
              "      <td>No</td>\n",
              "    </tr>\n",
              "  </tbody>\n",
              "</table>\n",
              "<p>64 rows × 13 columns</p>\n",
              "</div>"
            ],
            "text/plain": [
              "         Date Product   Batch Operator Start Time  End Time      Flavor  \\\n",
              "0  2024-08-29  OR-600  422111      Mac   11:50:00  14:05:00      Orange   \n",
              "1  2024-08-29  LE-600  422112      Mac   14:05:00  15:45:00  Lemon lime   \n",
              "2  2024-08-29  LE-600  422113      Mac   15:45:00  17:35:00  Lemon lime   \n",
              "3  2024-08-29  LE-600  422117  Charlie   21:39:00  22:54:00  Lemon lime   \n",
              "4  2024-08-31  CO-600  422130      Dee   07:45:00  09:05:00        Cola   \n",
              "..        ...     ...     ...      ...        ...       ...         ...   \n",
              "59 2024-08-30  CO-600  422129  Charlie   22:14:00  23:29:00        Cola   \n",
              "60 2024-08-30  CO-600  422118      Dee   04:05:00  06:05:00        Cola   \n",
              "61 2024-09-02  RB-600  422141   Dennis   07:43:00  08:50:00  Root Berry   \n",
              "62 2024-08-31  DC-600  422135      Mac   14:45:00  16:30:00   Diet Cola   \n",
              "63 2024-09-02   CO-2L  422146  Charlie   16:50:00  19:30:00        Cola   \n",
              "\n",
              "      Size  Min batch time  Factor  Duration   Description OperatorError  \n",
              "0   600 ml              60     2.0      60.0  Batch change           Yes  \n",
              "1   600 ml              60     2.0      20.0  Batch change           Yes  \n",
              "2   600 ml              60     2.0      50.0  Batch change           Yes  \n",
              "3   600 ml              60     2.0      10.0  Batch change           Yes  \n",
              "4   600 ml              60     2.0      20.0  Batch change           Yes  \n",
              "..     ...             ...     ...       ...           ...           ...  \n",
              "59  600 ml              60    12.0      15.0         Other            No  \n",
              "60  600 ml              60    12.0      20.0         Other            No  \n",
              "61  600 ml              60    12.0       7.0         Other            No  \n",
              "62  600 ml              60    12.0      15.0         Other            No  \n",
              "63     2 L              98    12.0       7.0         Other            No  \n",
              "\n",
              "[64 rows x 13 columns]"
            ]
          },
          "execution_count": 17,
          "metadata": {},
          "output_type": "execute_result"
        }
      ],
      "source": [
        "df=pd.read_sql(query2,con=engine)\n",
        "df"
      ]
    },
    {
      "cell_type": "code",
      "execution_count": null,
      "id": "3ea2f246",
      "metadata": {
        "id": "3ea2f246",
        "outputId": "975218f6-9a03-4a2d-8d37-231f3065acd8"
      },
      "outputs": [
        {
          "name": "stdout",
          "output_type": "stream",
          "text": [
            "\n",
            " Data Info:\n",
            "<class 'pandas.core.frame.DataFrame'>\n",
            "RangeIndex: 64 entries, 0 to 63\n",
            "Data columns (total 13 columns):\n",
            " #   Column          Non-Null Count  Dtype         \n",
            "---  ------          --------------  -----         \n",
            " 0   Date            64 non-null     datetime64[ns]\n",
            " 1   Product         64 non-null     object        \n",
            " 2   Batch           64 non-null     int64         \n",
            " 3   Operator        64 non-null     object        \n",
            " 4   Start Time      64 non-null     object        \n",
            " 5   End Time        64 non-null     object        \n",
            " 6   Flavor          64 non-null     object        \n",
            " 7   Size            64 non-null     object        \n",
            " 8   Min batch time  64 non-null     int64         \n",
            " 9   Factor          64 non-null     float64       \n",
            " 10  Duration        64 non-null     float64       \n",
            " 11  Description     64 non-null     object        \n",
            " 12  OperatorError   64 non-null     object        \n",
            "dtypes: datetime64[ns](1), float64(2), int64(2), object(8)\n",
            "memory usage: 6.6+ KB\n"
          ]
        }
      ],
      "source": [
        "print(\"\\n Data Info:\")\n",
        "df.info()"
      ]
    },
    {
      "cell_type": "code",
      "execution_count": null,
      "id": "177dc7c8",
      "metadata": {
        "id": "177dc7c8",
        "outputId": "01b79547-e2ac-4259-e1d4-96deebccf84b"
      },
      "outputs": [
        {
          "name": "stdout",
          "output_type": "stream",
          "text": [
            "\n",
            " Missing Values:\n"
          ]
        },
        {
          "data": {
            "text/plain": [
              "Date              0\n",
              "Product           0\n",
              "Batch             0\n",
              "Operator          0\n",
              "Start Time        0\n",
              "End Time          0\n",
              "Flavor            0\n",
              "Size              0\n",
              "Min batch time    0\n",
              "Factor            0\n",
              "Duration          0\n",
              "Description       0\n",
              "OperatorError     0\n",
              "dtype: int64"
            ]
          },
          "execution_count": 19,
          "metadata": {},
          "output_type": "execute_result"
        }
      ],
      "source": [
        "print(\"\\n Missing Values:\")\n",
        "df.isnull().sum()"
      ]
    },
    {
      "cell_type": "code",
      "execution_count": null,
      "id": "298cba18",
      "metadata": {
        "id": "298cba18"
      },
      "outputs": [],
      "source": [
        "df['Size']= df['Size'].replace('2 L','2000 ml')"
      ]
    },
    {
      "cell_type": "code",
      "execution_count": null,
      "id": "dfe04424",
      "metadata": {
        "id": "dfe04424",
        "outputId": "a11fabb6-505a-4c56-c932-75253d2d6331"
      },
      "outputs": [
        {
          "data": {
            "text/html": [
              "<div>\n",
              "<style scoped>\n",
              "    .dataframe tbody tr th:only-of-type {\n",
              "        vertical-align: middle;\n",
              "    }\n",
              "\n",
              "    .dataframe tbody tr th {\n",
              "        vertical-align: top;\n",
              "    }\n",
              "\n",
              "    .dataframe thead th {\n",
              "        text-align: right;\n",
              "    }\n",
              "</style>\n",
              "<table border=\"1\" class=\"dataframe\">\n",
              "  <thead>\n",
              "    <tr style=\"text-align: right;\">\n",
              "      <th></th>\n",
              "      <th>Date</th>\n",
              "      <th>Product</th>\n",
              "      <th>Batch</th>\n",
              "      <th>Operator</th>\n",
              "      <th>Start Time</th>\n",
              "      <th>End Time</th>\n",
              "      <th>Flavor</th>\n",
              "      <th>Size</th>\n",
              "      <th>Min batch time</th>\n",
              "      <th>Factor</th>\n",
              "      <th>Duration</th>\n",
              "      <th>Description</th>\n",
              "      <th>OperatorError</th>\n",
              "    </tr>\n",
              "  </thead>\n",
              "  <tbody>\n",
              "    <tr>\n",
              "      <th>0</th>\n",
              "      <td>2024-08-29</td>\n",
              "      <td>OR-600</td>\n",
              "      <td>422111</td>\n",
              "      <td>Mac</td>\n",
              "      <td>11:50:00</td>\n",
              "      <td>14:05:00</td>\n",
              "      <td>Orange</td>\n",
              "      <td>600 ml</td>\n",
              "      <td>60</td>\n",
              "      <td>2.0</td>\n",
              "      <td>60.0</td>\n",
              "      <td>Batch change</td>\n",
              "      <td>Yes</td>\n",
              "    </tr>\n",
              "    <tr>\n",
              "      <th>1</th>\n",
              "      <td>2024-08-29</td>\n",
              "      <td>LE-600</td>\n",
              "      <td>422112</td>\n",
              "      <td>Mac</td>\n",
              "      <td>14:05:00</td>\n",
              "      <td>15:45:00</td>\n",
              "      <td>Lemon lime</td>\n",
              "      <td>600 ml</td>\n",
              "      <td>60</td>\n",
              "      <td>2.0</td>\n",
              "      <td>20.0</td>\n",
              "      <td>Batch change</td>\n",
              "      <td>Yes</td>\n",
              "    </tr>\n",
              "    <tr>\n",
              "      <th>2</th>\n",
              "      <td>2024-08-29</td>\n",
              "      <td>LE-600</td>\n",
              "      <td>422113</td>\n",
              "      <td>Mac</td>\n",
              "      <td>15:45:00</td>\n",
              "      <td>17:35:00</td>\n",
              "      <td>Lemon lime</td>\n",
              "      <td>600 ml</td>\n",
              "      <td>60</td>\n",
              "      <td>2.0</td>\n",
              "      <td>50.0</td>\n",
              "      <td>Batch change</td>\n",
              "      <td>Yes</td>\n",
              "    </tr>\n",
              "    <tr>\n",
              "      <th>3</th>\n",
              "      <td>2024-08-29</td>\n",
              "      <td>LE-600</td>\n",
              "      <td>422117</td>\n",
              "      <td>Charlie</td>\n",
              "      <td>21:39:00</td>\n",
              "      <td>22:54:00</td>\n",
              "      <td>Lemon lime</td>\n",
              "      <td>600 ml</td>\n",
              "      <td>60</td>\n",
              "      <td>2.0</td>\n",
              "      <td>10.0</td>\n",
              "      <td>Batch change</td>\n",
              "      <td>Yes</td>\n",
              "    </tr>\n",
              "    <tr>\n",
              "      <th>4</th>\n",
              "      <td>2024-08-31</td>\n",
              "      <td>CO-600</td>\n",
              "      <td>422130</td>\n",
              "      <td>Dee</td>\n",
              "      <td>07:45:00</td>\n",
              "      <td>09:05:00</td>\n",
              "      <td>Cola</td>\n",
              "      <td>600 ml</td>\n",
              "      <td>60</td>\n",
              "      <td>2.0</td>\n",
              "      <td>20.0</td>\n",
              "      <td>Batch change</td>\n",
              "      <td>Yes</td>\n",
              "    </tr>\n",
              "    <tr>\n",
              "      <th>...</th>\n",
              "      <td>...</td>\n",
              "      <td>...</td>\n",
              "      <td>...</td>\n",
              "      <td>...</td>\n",
              "      <td>...</td>\n",
              "      <td>...</td>\n",
              "      <td>...</td>\n",
              "      <td>...</td>\n",
              "      <td>...</td>\n",
              "      <td>...</td>\n",
              "      <td>...</td>\n",
              "      <td>...</td>\n",
              "      <td>...</td>\n",
              "    </tr>\n",
              "    <tr>\n",
              "      <th>59</th>\n",
              "      <td>2024-08-30</td>\n",
              "      <td>CO-600</td>\n",
              "      <td>422129</td>\n",
              "      <td>Charlie</td>\n",
              "      <td>22:14:00</td>\n",
              "      <td>23:29:00</td>\n",
              "      <td>Cola</td>\n",
              "      <td>600 ml</td>\n",
              "      <td>60</td>\n",
              "      <td>12.0</td>\n",
              "      <td>15.0</td>\n",
              "      <td>Other</td>\n",
              "      <td>No</td>\n",
              "    </tr>\n",
              "    <tr>\n",
              "      <th>60</th>\n",
              "      <td>2024-08-30</td>\n",
              "      <td>CO-600</td>\n",
              "      <td>422118</td>\n",
              "      <td>Dee</td>\n",
              "      <td>04:05:00</td>\n",
              "      <td>06:05:00</td>\n",
              "      <td>Cola</td>\n",
              "      <td>600 ml</td>\n",
              "      <td>60</td>\n",
              "      <td>12.0</td>\n",
              "      <td>20.0</td>\n",
              "      <td>Other</td>\n",
              "      <td>No</td>\n",
              "    </tr>\n",
              "    <tr>\n",
              "      <th>61</th>\n",
              "      <td>2024-09-02</td>\n",
              "      <td>RB-600</td>\n",
              "      <td>422141</td>\n",
              "      <td>Dennis</td>\n",
              "      <td>07:43:00</td>\n",
              "      <td>08:50:00</td>\n",
              "      <td>Root Berry</td>\n",
              "      <td>600 ml</td>\n",
              "      <td>60</td>\n",
              "      <td>12.0</td>\n",
              "      <td>7.0</td>\n",
              "      <td>Other</td>\n",
              "      <td>No</td>\n",
              "    </tr>\n",
              "    <tr>\n",
              "      <th>62</th>\n",
              "      <td>2024-08-31</td>\n",
              "      <td>DC-600</td>\n",
              "      <td>422135</td>\n",
              "      <td>Mac</td>\n",
              "      <td>14:45:00</td>\n",
              "      <td>16:30:00</td>\n",
              "      <td>Diet Cola</td>\n",
              "      <td>600 ml</td>\n",
              "      <td>60</td>\n",
              "      <td>12.0</td>\n",
              "      <td>15.0</td>\n",
              "      <td>Other</td>\n",
              "      <td>No</td>\n",
              "    </tr>\n",
              "    <tr>\n",
              "      <th>63</th>\n",
              "      <td>2024-09-02</td>\n",
              "      <td>CO-2L</td>\n",
              "      <td>422146</td>\n",
              "      <td>Charlie</td>\n",
              "      <td>16:50:00</td>\n",
              "      <td>19:30:00</td>\n",
              "      <td>Cola</td>\n",
              "      <td>2000 ml</td>\n",
              "      <td>98</td>\n",
              "      <td>12.0</td>\n",
              "      <td>7.0</td>\n",
              "      <td>Other</td>\n",
              "      <td>No</td>\n",
              "    </tr>\n",
              "  </tbody>\n",
              "</table>\n",
              "<p>64 rows × 13 columns</p>\n",
              "</div>"
            ],
            "text/plain": [
              "         Date Product   Batch Operator Start Time  End Time      Flavor  \\\n",
              "0  2024-08-29  OR-600  422111      Mac   11:50:00  14:05:00      Orange   \n",
              "1  2024-08-29  LE-600  422112      Mac   14:05:00  15:45:00  Lemon lime   \n",
              "2  2024-08-29  LE-600  422113      Mac   15:45:00  17:35:00  Lemon lime   \n",
              "3  2024-08-29  LE-600  422117  Charlie   21:39:00  22:54:00  Lemon lime   \n",
              "4  2024-08-31  CO-600  422130      Dee   07:45:00  09:05:00        Cola   \n",
              "..        ...     ...     ...      ...        ...       ...         ...   \n",
              "59 2024-08-30  CO-600  422129  Charlie   22:14:00  23:29:00        Cola   \n",
              "60 2024-08-30  CO-600  422118      Dee   04:05:00  06:05:00        Cola   \n",
              "61 2024-09-02  RB-600  422141   Dennis   07:43:00  08:50:00  Root Berry   \n",
              "62 2024-08-31  DC-600  422135      Mac   14:45:00  16:30:00   Diet Cola   \n",
              "63 2024-09-02   CO-2L  422146  Charlie   16:50:00  19:30:00        Cola   \n",
              "\n",
              "       Size  Min batch time  Factor  Duration   Description OperatorError  \n",
              "0    600 ml              60     2.0      60.0  Batch change           Yes  \n",
              "1    600 ml              60     2.0      20.0  Batch change           Yes  \n",
              "2    600 ml              60     2.0      50.0  Batch change           Yes  \n",
              "3    600 ml              60     2.0      10.0  Batch change           Yes  \n",
              "4    600 ml              60     2.0      20.0  Batch change           Yes  \n",
              "..      ...             ...     ...       ...           ...           ...  \n",
              "59   600 ml              60    12.0      15.0         Other            No  \n",
              "60   600 ml              60    12.0      20.0         Other            No  \n",
              "61   600 ml              60    12.0       7.0         Other            No  \n",
              "62   600 ml              60    12.0      15.0         Other            No  \n",
              "63  2000 ml              98    12.0       7.0         Other            No  \n",
              "\n",
              "[64 rows x 13 columns]"
            ]
          },
          "execution_count": 21,
          "metadata": {},
          "output_type": "execute_result"
        }
      ],
      "source": [
        "df"
      ]
    },
    {
      "cell_type": "code",
      "execution_count": null,
      "id": "f04bc185",
      "metadata": {
        "id": "f04bc185"
      },
      "outputs": [],
      "source": [
        "import datetime\n",
        "\n",
        "def calculate_time_difference(start_time, end_time):\n",
        "\n",
        "    if isinstance(start_time, datetime.datetime):\n",
        "        start_time = start_time.time()\n",
        "    if isinstance(end_time, datetime.datetime):\n",
        "        end_time = end_time.time()\n",
        "\n",
        "    start_datetime = datetime.datetime.combine(datetime.date.today(), start_time)\n",
        "    end_datetime = datetime.datetime.combine(datetime.date.today(), end_time)\n",
        "\n",
        "    if end_time < start_time:\n",
        "        end_datetime += datetime.timedelta(days=1)\n",
        "\n",
        "    time_difference = end_datetime - start_datetime\n",
        "    return time_difference.total_seconds() / 3600\n",
        "\n",
        "df['Hour'] = df.apply(lambda row: calculate_time_difference(row['Start Time'], row['End Time']), axis=1)"
      ]
    },
    {
      "cell_type": "code",
      "execution_count": null,
      "id": "9fb63ec7",
      "metadata": {
        "id": "9fb63ec7",
        "outputId": "4a75e57b-c487-48da-8cc5-59253caf3c08"
      },
      "outputs": [
        {
          "data": {
            "text/plain": [
              "64"
            ]
          },
          "execution_count": 23,
          "metadata": {},
          "output_type": "execute_result"
        }
      ],
      "source": [
        "df.to_sql('Manufacturing',con=engine,if_exists='replace',index=False,chunksize=1000)"
      ]
    },
    {
      "cell_type": "code",
      "execution_count": null,
      "id": "3a27487e",
      "metadata": {
        "id": "3a27487e"
      },
      "outputs": [],
      "source": [
        "query= \"\"\"SELECT TOP 1\n",
        "    Operator,\n",
        "    SUM([Duration]) AS TotalDowntime\n",
        "FROM\n",
        "    Manufacturing\n",
        "GROUP BY\n",
        "    Operator\n",
        "ORDER BY\n",
        "    TotalDowntime DESC;\"\"\""
      ]
    },
    {
      "cell_type": "code",
      "execution_count": null,
      "id": "e3adaf39",
      "metadata": {
        "id": "e3adaf39",
        "outputId": "e7144da7-63db-414b-eb35-ece7c5f8ffcb"
      },
      "outputs": [
        {
          "data": {
            "text/html": [
              "<div>\n",
              "<style scoped>\n",
              "    .dataframe tbody tr th:only-of-type {\n",
              "        vertical-align: middle;\n",
              "    }\n",
              "\n",
              "    .dataframe tbody tr th {\n",
              "        vertical-align: top;\n",
              "    }\n",
              "\n",
              "    .dataframe thead th {\n",
              "        text-align: right;\n",
              "    }\n",
              "</style>\n",
              "<table border=\"1\" class=\"dataframe\">\n",
              "  <thead>\n",
              "    <tr style=\"text-align: right;\">\n",
              "      <th></th>\n",
              "      <th>Operator</th>\n",
              "      <th>TotalDowntime</th>\n",
              "    </tr>\n",
              "  </thead>\n",
              "  <tbody>\n",
              "    <tr>\n",
              "      <th>0</th>\n",
              "      <td>Charlie</td>\n",
              "      <td>404.0</td>\n",
              "    </tr>\n",
              "  </tbody>\n",
              "</table>\n",
              "</div>"
            ],
            "text/plain": [
              "  Operator  TotalDowntime\n",
              "0  Charlie          404.0"
            ]
          },
          "execution_count": 25,
          "metadata": {},
          "output_type": "execute_result"
        }
      ],
      "source": [
        "dn=pd.read_sql(query,con=engine)\n",
        "dn"
      ]
    },
    {
      "cell_type": "code",
      "execution_count": null,
      "id": "f2218fa3",
      "metadata": {
        "id": "f2218fa3",
        "outputId": "9f6325c9-ca28-4e0d-a34a-0d100538fac7"
      },
      "outputs": [
        {
          "data": {
            "text/plain": [
              "1"
            ]
          },
          "execution_count": 26,
          "metadata": {},
          "output_type": "execute_result"
        }
      ],
      "source": [
        "dn.to_sql('Top Operator',con=engine,if_exists='replace',index=False,chunksize=1000)"
      ]
    },
    {
      "cell_type": "code",
      "execution_count": null,
      "id": "070b4c85",
      "metadata": {
        "id": "070b4c85"
      },
      "outputs": [],
      "source": [
        "import matplotlib.pyplot as plt"
      ]
    },
    {
      "cell_type": "markdown",
      "id": "c0b0b453",
      "metadata": {
        "id": "c0b0b453"
      },
      "source": [
        "# What is the total downtime per day?"
      ]
    },
    {
      "cell_type": "code",
      "execution_count": null,
      "id": "07cd8c19",
      "metadata": {
        "id": "07cd8c19",
        "outputId": "66d818bc-a25a-46b7-e77e-b03bd39c47e3"
      },
      "outputs": [
        {
          "data": {
            "image/png": "[encoded data removed]",
            "text/plain": [
              "<Figure size 1200x500 with 1 Axes>"
            ]
          },
          "metadata": {},
          "output_type": "display_data"
        }
      ],
      "source": [
        "import matplotlib.pyplot as plt\n",
        "\n",
        "daily_downtime = df.groupby('Date')['Duration'].sum()\n",
        "\n",
        "plt.figure(figsize=(12,5))\n",
        "ax = daily_downtime.plot(kind='line', marker='o', color='teal')\n",
        "\n",
        "for i, value in enumerate(daily_downtime.values):\n",
        "    ax.text(daily_downtime.index[i], value + 1, str(round(value, 2)),\n",
        "            ha='center', va='bottom', fontsize=14)\n",
        "\n",
        "plt.title(\"Total Downtime per Day\")\n",
        "plt.xlabel(\"Date\")\n",
        "plt.ylabel(\"Total Duration (Minutes)\")\n",
        "plt.xticks(rotation=45)\n",
        "plt.tight_layout()\n",
        "plt.show()\n"
      ]
    },
    {
      "cell_type": "markdown",
      "id": "d107a533",
      "metadata": {
        "id": "d107a533"
      },
      "source": [
        "Benefit: Helps identify specific days with high downtime, which allows managers to investigate what went wrong and prevent future recurrence.\n"
      ]
    },
    {
      "cell_type": "markdown",
      "id": "93cea08d",
      "metadata": {
        "id": "93cea08d"
      },
      "source": [
        "# Which product has the highest average downtime?"
      ]
    },
    {
      "cell_type": "code",
      "execution_count": null,
      "id": "06bf0111",
      "metadata": {
        "id": "06bf0111",
        "outputId": "b1ce58f6-153d-434e-f356-3330bfa0f0de"
      },
      "outputs": [
        {
          "data": {
            "image/png": "[encoded data removed]",
            "text/plain": [
              "<Figure size 1000x500 with 1 Axes>"
            ]
          },
          "metadata": {},
          "output_type": "display_data"
        }
      ],
      "source": [
        "import matplotlib.pyplot as plt\n",
        "import seaborn as sns\n",
        "\n",
        "product_avg_downtime = df.groupby('Product')['Duration'].mean().sort_values(ascending=False)\n",
        "\n",
        "plt.figure(figsize=(10,5))\n",
        "ax = sns.barplot(x=product_avg_downtime.index, y=product_avg_downtime.values, palette='viridis')\n",
        "\n",
        "for i, value in enumerate(product_avg_downtime.values):\n",
        "    ax.text(i, value + 0.5, str(round(value, 2)), ha='center', va='bottom', fontsize=12)\n",
        "\n",
        "plt.title(\"Average Downtime per Product\")\n",
        "plt.xlabel(\"Product\")\n",
        "plt.ylabel(\"Average Duration (Minutes)\")\n",
        "plt.xticks(rotation=45)\n",
        "plt.tight_layout()\n",
        "plt.show()\n"
      ]
    },
    {
      "cell_type": "markdown",
      "id": "221f35c1",
      "metadata": {
        "id": "221f35c1"
      },
      "source": [
        "Benefit: Identifies the worst-case scenario to understand its cause and make decisions to reduce such extreme cases in the future."
      ]
    },
    {
      "cell_type": "markdown",
      "id": "762b582a",
      "metadata": {
        "id": "762b582a"
      },
      "source": [
        "# Which batch has the longest duration?"
      ]
    },
    {
      "cell_type": "code",
      "execution_count": null,
      "id": "517973d3",
      "metadata": {
        "id": "517973d3",
        "outputId": "f87770ad-5ebe-419a-854a-25a0ca31584e"
      },
      "outputs": [
        {
          "data": {
            "text/plain": [
              "Date              2024-08-29 00:00:00\n",
              "Product                        OR-600\n",
              "Batch                          422111\n",
              "Operator                          Mac\n",
              "Start Time                   11:50:00\n",
              "End Time                     14:05:00\n",
              "Flavor                         Orange\n",
              "Size                           600 ml\n",
              "Min batch time                     60\n",
              "Factor                            2.0\n",
              "Duration                         60.0\n",
              "Description              Batch change\n",
              "OperatorError                     Yes\n",
              "Hour                             2.25\n",
              "Name: 0, dtype: object"
            ]
          },
          "execution_count": 30,
          "metadata": {},
          "output_type": "execute_result"
        }
      ],
      "source": [
        "longest_batch = df.loc[df['Duration'].idxmax()]\n",
        "longest_batch"
      ]
    },
    {
      "cell_type": "markdown",
      "id": "d4b7dbf3",
      "metadata": {
        "id": "d4b7dbf3"
      },
      "source": [
        "Benefit: Identifies the worst-case scenario to understand its cause and make decisions to reduce such extreme cases in the future."
      ]
    },
    {
      "cell_type": "markdown",
      "id": "fc464458",
      "metadata": {
        "id": "fc464458"
      },
      "source": [
        "# Top 10 Longest Duration Batches"
      ]
    },
    {
      "cell_type": "code",
      "execution_count": null,
      "id": "777ba9c8",
      "metadata": {
        "id": "777ba9c8",
        "outputId": "88485df2-43b8-43a0-e690-f9a3fd280a01"
      },
      "outputs": [
        {
          "data": {
            "image/png": "[encoded data removed]",
            "text/plain": [
              "<Figure size 1200x500 with 1 Axes>"
            ]
          },
          "metadata": {},
          "output_type": "display_data"
        }
      ],
      "source": [
        "top_batches = df.sort_values(by='Duration', ascending=False).head(10)\n",
        "\n",
        "top_batches['Batch_Label'] = top_batches['Batch'].astype(str) + ' | ' + top_batches['Product'].astype(str)\n",
        "\n",
        "plt.figure(figsize=(12,5))\n",
        "ax = sns.barplot(x=top_batches['Duration'], y=top_batches['Batch_Label'], palette='rocket')\n",
        "\n",
        "for i, value in enumerate(top_batches['Duration']):\n",
        "    ax.text(value + 1, i, str(round(value, 2)), va='center', fontsize=12)\n",
        "\n",
        "plt.title(\"Top 10 Longest Duration Batches\")\n",
        "plt.xlabel(\"Duration (Minutes)\")\n",
        "plt.ylabel(\"Batch | Product\")\n",
        "plt.tight_layout()\n",
        "plt.show()\n"
      ]
    },
    {
      "cell_type": "markdown",
      "id": "b96352c4",
      "metadata": {
        "id": "b96352c4"
      },
      "source": [
        "Benefit:\n",
        "This chart highlights the batches with the longest downtime, helping you identify and address the most significant delays. By focusing on these batches, you can pinpoint the root causes—whether it's related to specific products, equipment issues, or operational inefficiencies—and take targeted actions to minimize downtime and improve overall productivity.\n"
      ]
    },
    {
      "cell_type": "markdown",
      "id": "f6fd1d44",
      "metadata": {
        "id": "f6fd1d44"
      },
      "source": [
        "# What are the top reasons for downtime?"
      ]
    },
    {
      "cell_type": "code",
      "execution_count": null,
      "id": "28985c90",
      "metadata": {
        "id": "28985c90",
        "outputId": "56b5b945-db17-4036-b3c2-e4ae08c0c0de"
      },
      "outputs": [
        {
          "data": {
            "image/png": "[encoded data removed]",
            "text/plain": [
              "<Figure size 1000x500 with 1 Axes>"
            ]
          },
          "metadata": {},
          "output_type": "display_data"
        }
      ],
      "source": [
        "top_reasons = df['Description'].value_counts().head(10)\n",
        "\n",
        "plt.figure(figsize=(10,5))\n",
        "ax = sns.barplot(x=top_reasons.values, y=top_reasons.index, palette='coolwarm')\n",
        "\n",
        "for i, value in enumerate(top_reasons.values):\n",
        "    ax.text(value + 1, i, str(value), va='center', fontsize=12)\n",
        "\n",
        "plt.title(\"Top 10 Downtime Reasons\")\n",
        "plt.xlabel(\"Count\")\n",
        "plt.ylabel(\"Reason\")\n",
        "plt.tight_layout()\n",
        "plt.show()\n"
      ]
    },
    {
      "cell_type": "markdown",
      "id": "347478a3",
      "metadata": {
        "id": "347478a3"
      },
      "source": [
        "Benefit: Reveals the most common causes of downtime, helping the operations team to implement focused solutions or preventive maintenance.\n"
      ]
    },
    {
      "cell_type": "markdown",
      "id": "1ab27518",
      "metadata": {
        "id": "1ab27518"
      },
      "source": [
        "# Do operators differ in average downtime?"
      ]
    },
    {
      "cell_type": "code",
      "execution_count": null,
      "id": "8499b036",
      "metadata": {
        "id": "8499b036",
        "outputId": "96d972c1-9c41-45ed-d764-ba7e552e7812"
      },
      "outputs": [
        {
          "data": {
            "image/png": "[encoded data removed]",
            "text/plain": [
              "<Figure size 1000x500 with 1 Axes>"
            ]
          },
          "metadata": {},
          "output_type": "display_data"
        }
      ],
      "source": [
        "operator_avg = df.groupby('Operator')['Duration'].mean().sort_values(ascending=False)\n",
        "\n",
        "plt.figure(figsize=(10,5))\n",
        "ax = sns.barplot(x=operator_avg.index, y=operator_avg.values, palette='magma')\n",
        "\n",
        "for i, value in enumerate(operator_avg.values):\n",
        "    ax.text(i, value + 0.5, str(round(value, 2)), ha='center', va='bottom', fontsize=10)\n",
        "\n",
        "plt.title(\"Average Downtime per Operator\")\n",
        "plt.xlabel(\"Operator\")\n",
        "plt.ylabel(\"Average Duration\")\n",
        "plt.xticks(rotation=45)\n",
        "plt.tight_layout()\n",
        "plt.show()\n"
      ]
    },
    {
      "cell_type": "markdown",
      "id": "15f346d2",
      "metadata": {
        "id": "15f346d2"
      },
      "source": [
        "Benefit: Shows whether certain operators contribute more to downtime, enabling training, support, or performance feedback as needed.\n"
      ]
    },
    {
      "cell_type": "markdown",
      "id": "6ab46eb3",
      "metadata": {
        "id": "6ab46eb3"
      },
      "source": [
        "# What percentage of downtime is due to operator error?"
      ]
    },
    {
      "cell_type": "code",
      "execution_count": null,
      "id": "f1161fb3",
      "metadata": {
        "id": "f1161fb3",
        "outputId": "da4dd61b-2408-4bdd-86ae-589eb3269eab"
      },
      "outputs": [
        {
          "name": "stdout",
          "output_type": "stream",
          "text": [
            "Operator error accounts for 57.73% of total downtime.\n"
          ]
        }
      ],
      "source": [
        "total_duration = df['Duration'].sum()\n",
        "operator_error_duration = df[df['OperatorError'] == 'Yes']['Duration'].sum()\n",
        "percentage = (operator_error_duration / total_duration) * 100\n",
        "print(f\"Operator error accounts for {percentage:.2f}% of total downtime.\")"
      ]
    },
    {
      "cell_type": "markdown",
      "id": "249d5a96",
      "metadata": {
        "id": "249d5a96"
      },
      "source": [
        "Benefit : Measures the impact of human errors and highlights training needs.\n"
      ]
    },
    {
      "cell_type": "markdown",
      "id": "22727a54",
      "metadata": {
        "id": "22727a54"
      },
      "source": [
        "# Which combination of operator and product causes the most downtime?"
      ]
    },
    {
      "cell_type": "code",
      "execution_count": null,
      "id": "65a151cc",
      "metadata": {
        "id": "65a151cc",
        "outputId": "4f54198e-751c-4669-fcda-f45b2bce7a4e"
      },
      "outputs": [
        {
          "data": {
            "image/png": "[encoded data removed]",
            "text/plain": [
              "<Figure size 1200x600 with 1 Axes>"
            ]
          },
          "metadata": {},
          "output_type": "display_data"
        }
      ],
      "source": [
        "q7 = df.groupby(['Operator', 'Product'])['Duration'].sum().reset_index()\n",
        "top7 = q7.sort_values(by='Duration', ascending=False).head(10)\n",
        "\n",
        "top7['Label'] = top7['Operator'] + ' - ' + top7['Product']\n",
        "\n",
        "plt.figure(figsize=(12,6))\n",
        "ax = sns.barplot(data=top7, x='Duration', y='Label', palette='magma')\n",
        "\n",
        "for i, value in enumerate(top7['Duration']):\n",
        "    ax.text(value + 1, i, str(round(value, 2)), va='center', fontsize=10)\n",
        "\n",
        "plt.title(\"Top 10 Operator-Product Combinations by Downtime\")\n",
        "plt.xlabel(\"Total Downtime (Minutes)\")\n",
        "plt.ylabel(\"Operator - Product\")\n",
        "plt.tight_layout()\n",
        "plt.show()\n"
      ]
    },
    {
      "cell_type": "markdown",
      "id": "47d102cc",
      "metadata": {
        "id": "47d102cc"
      },
      "source": [
        "Benefit : Pinpoints specific operator-product issues for targeted interventions."
      ]
    },
    {
      "cell_type": "markdown",
      "id": "43793d76",
      "metadata": {
        "id": "43793d76"
      },
      "source": [
        "# Which flavors or sizes contribute most to downtime?"
      ]
    },
    {
      "cell_type": "code",
      "execution_count": null,
      "id": "a6dd3c02",
      "metadata": {
        "id": "a6dd3c02",
        "outputId": "0bb98ad3-80f3-4f99-fca5-23bb0043bb62"
      },
      "outputs": [
        {
          "data": {
            "image/png": "[encoded data removed]",
            "text/plain": [
              "<Figure size 1000x500 with 1 Axes>"
            ]
          },
          "metadata": {},
          "output_type": "display_data"
        }
      ],
      "source": [
        "q10_flavor = df.groupby('Flavor')['Duration'].sum().sort_values(ascending=False).head(10)\n",
        "\n",
        "plt.figure(figsize=(10,5))\n",
        "ax1 = q10_flavor.plot(kind='bar', color='skyblue', title='Downtime by Flavor')\n",
        "plt.ylabel('Total Duration (Minutes)')\n",
        "\n",
        "for i, value in enumerate(q10_flavor.values):\n",
        "    ax1.text(i, value + 1, str(round(value, 2)), ha='center', va='bottom', fontsize=10)\n",
        "plt.tight_layout()\n",
        "plt.show()\n",
        "\n"
      ]
    },
    {
      "cell_type": "markdown",
      "id": "f98d956c",
      "metadata": {
        "id": "f98d956c"
      },
      "source": [
        "Benefit : Identifying the flavors or product configurations that contribute the most downtime can help to target process adjustments, redesigns, or improvements specific to those flavors.\n"
      ]
    },
    {
      "cell_type": "code",
      "execution_count": null,
      "id": "f2708401",
      "metadata": {
        "id": "f2708401"
      },
      "outputs": [],
      "source": [
        "df.to_excel(r'D:\\season\\Final project\\Datasets\\Datasets\\Manufacturing Downtime\\New folder.xlsx',index = False)"
      ]
    },
    {
      "cell_type": "markdown",
      "id": "6f06cffe",
      "metadata": {
        "id": "6f06cffe"
      },
      "source": [
        "# Machine Learning Model"
      ]
    },
    {
      "cell_type": "code",
      "execution_count": null,
      "id": "82406ccd",
      "metadata": {
        "id": "82406ccd"
      },
      "outputs": [],
      "source": [
        "import pandas as pd\n",
        "import numpy as np\n",
        "from sklearn.model_selection import train_test_split\n",
        "from sklearn.linear_model import LinearRegression\n",
        "from sklearn.ensemble import RandomForestRegressor\n",
        "from xgboost import XGBRegressor\n",
        "from sklearn.model_selection import GridSearchCV, cross_val_score\n",
        "from sklearn.metrics import mean_squared_error, r2_score\n",
        "import matplotlib.pyplot as plt\n",
        "import seaborn as sns\n",
        "df = pd.read_excel(r'D:\\season\\Final project\\Datasets\\Datasets\\Manufacturing Downtime\\New folder.xlsx')"
      ]
    },
    {
      "cell_type": "code",
      "execution_count": null,
      "id": "454d5e72",
      "metadata": {
        "id": "454d5e72",
        "outputId": "9866356e-dc9a-4ea3-fb9b-72168c9aa439"
      },
      "outputs": [
        {
          "data": {
            "text/html": [
              "<div>\n",
              "<style scoped>\n",
              "    .dataframe tbody tr th:only-of-type {\n",
              "        vertical-align: middle;\n",
              "    }\n",
              "\n",
              "    .dataframe tbody tr th {\n",
              "        vertical-align: top;\n",
              "    }\n",
              "\n",
              "    .dataframe thead th {\n",
              "        text-align: right;\n",
              "    }\n",
              "</style>\n",
              "<table border=\"1\" class=\"dataframe\">\n",
              "  <thead>\n",
              "    <tr style=\"text-align: right;\">\n",
              "      <th></th>\n",
              "      <th>Date</th>\n",
              "      <th>Product</th>\n",
              "      <th>Batch</th>\n",
              "      <th>Operator</th>\n",
              "      <th>Start Time</th>\n",
              "      <th>End Time</th>\n",
              "      <th>Flavor</th>\n",
              "      <th>Size</th>\n",
              "      <th>Min batch time</th>\n",
              "      <th>Factor</th>\n",
              "      <th>Duration</th>\n",
              "      <th>Description</th>\n",
              "      <th>OperatorError</th>\n",
              "      <th>Hour</th>\n",
              "    </tr>\n",
              "  </thead>\n",
              "  <tbody>\n",
              "    <tr>\n",
              "      <th>0</th>\n",
              "      <td>2024-08-29</td>\n",
              "      <td>OR-600</td>\n",
              "      <td>422111</td>\n",
              "      <td>Mac</td>\n",
              "      <td>11:50:00</td>\n",
              "      <td>14:05:00</td>\n",
              "      <td>Orange</td>\n",
              "      <td>600 ml</td>\n",
              "      <td>60</td>\n",
              "      <td>2</td>\n",
              "      <td>60</td>\n",
              "      <td>Batch change</td>\n",
              "      <td>Yes</td>\n",
              "      <td>2.250000</td>\n",
              "    </tr>\n",
              "    <tr>\n",
              "      <th>1</th>\n",
              "      <td>2024-08-29</td>\n",
              "      <td>LE-600</td>\n",
              "      <td>422112</td>\n",
              "      <td>Mac</td>\n",
              "      <td>14:05:00</td>\n",
              "      <td>15:45:00</td>\n",
              "      <td>Lemon lime</td>\n",
              "      <td>600 ml</td>\n",
              "      <td>60</td>\n",
              "      <td>2</td>\n",
              "      <td>20</td>\n",
              "      <td>Batch change</td>\n",
              "      <td>Yes</td>\n",
              "      <td>1.666667</td>\n",
              "    </tr>\n",
              "    <tr>\n",
              "      <th>2</th>\n",
              "      <td>2024-08-29</td>\n",
              "      <td>LE-600</td>\n",
              "      <td>422113</td>\n",
              "      <td>Mac</td>\n",
              "      <td>15:45:00</td>\n",
              "      <td>17:35:00</td>\n",
              "      <td>Lemon lime</td>\n",
              "      <td>600 ml</td>\n",
              "      <td>60</td>\n",
              "      <td>2</td>\n",
              "      <td>50</td>\n",
              "      <td>Batch change</td>\n",
              "      <td>Yes</td>\n",
              "      <td>1.833333</td>\n",
              "    </tr>\n",
              "    <tr>\n",
              "      <th>3</th>\n",
              "      <td>2024-08-29</td>\n",
              "      <td>LE-600</td>\n",
              "      <td>422117</td>\n",
              "      <td>Charlie</td>\n",
              "      <td>21:39:00</td>\n",
              "      <td>22:54:00</td>\n",
              "      <td>Lemon lime</td>\n",
              "      <td>600 ml</td>\n",
              "      <td>60</td>\n",
              "      <td>2</td>\n",
              "      <td>10</td>\n",
              "      <td>Batch change</td>\n",
              "      <td>Yes</td>\n",
              "      <td>1.250000</td>\n",
              "    </tr>\n",
              "    <tr>\n",
              "      <th>4</th>\n",
              "      <td>2024-08-31</td>\n",
              "      <td>CO-600</td>\n",
              "      <td>422130</td>\n",
              "      <td>Dee</td>\n",
              "      <td>07:45:00</td>\n",
              "      <td>09:05:00</td>\n",
              "      <td>Cola</td>\n",
              "      <td>600 ml</td>\n",
              "      <td>60</td>\n",
              "      <td>2</td>\n",
              "      <td>20</td>\n",
              "      <td>Batch change</td>\n",
              "      <td>Yes</td>\n",
              "      <td>1.333333</td>\n",
              "    </tr>\n",
              "    <tr>\n",
              "      <th>...</th>\n",
              "      <td>...</td>\n",
              "      <td>...</td>\n",
              "      <td>...</td>\n",
              "      <td>...</td>\n",
              "      <td>...</td>\n",
              "      <td>...</td>\n",
              "      <td>...</td>\n",
              "      <td>...</td>\n",
              "      <td>...</td>\n",
              "      <td>...</td>\n",
              "      <td>...</td>\n",
              "      <td>...</td>\n",
              "      <td>...</td>\n",
              "      <td>...</td>\n",
              "    </tr>\n",
              "    <tr>\n",
              "      <th>59</th>\n",
              "      <td>2024-08-30</td>\n",
              "      <td>CO-600</td>\n",
              "      <td>422129</td>\n",
              "      <td>Charlie</td>\n",
              "      <td>22:14:00</td>\n",
              "      <td>23:29:00</td>\n",
              "      <td>Cola</td>\n",
              "      <td>600 ml</td>\n",
              "      <td>60</td>\n",
              "      <td>12</td>\n",
              "      <td>15</td>\n",
              "      <td>Other</td>\n",
              "      <td>No</td>\n",
              "      <td>1.250000</td>\n",
              "    </tr>\n",
              "    <tr>\n",
              "      <th>60</th>\n",
              "      <td>2024-08-30</td>\n",
              "      <td>CO-600</td>\n",
              "      <td>422118</td>\n",
              "      <td>Dee</td>\n",
              "      <td>04:05:00</td>\n",
              "      <td>06:05:00</td>\n",
              "      <td>Cola</td>\n",
              "      <td>600 ml</td>\n",
              "      <td>60</td>\n",
              "      <td>12</td>\n",
              "      <td>20</td>\n",
              "      <td>Other</td>\n",
              "      <td>No</td>\n",
              "      <td>2.000000</td>\n",
              "    </tr>\n",
              "    <tr>\n",
              "      <th>61</th>\n",
              "      <td>2024-09-02</td>\n",
              "      <td>RB-600</td>\n",
              "      <td>422141</td>\n",
              "      <td>Dennis</td>\n",
              "      <td>07:43:00</td>\n",
              "      <td>08:50:00</td>\n",
              "      <td>Root Berry</td>\n",
              "      <td>600 ml</td>\n",
              "      <td>60</td>\n",
              "      <td>12</td>\n",
              "      <td>7</td>\n",
              "      <td>Other</td>\n",
              "      <td>No</td>\n",
              "      <td>1.116667</td>\n",
              "    </tr>\n",
              "    <tr>\n",
              "      <th>62</th>\n",
              "      <td>2024-08-31</td>\n",
              "      <td>DC-600</td>\n",
              "      <td>422135</td>\n",
              "      <td>Mac</td>\n",
              "      <td>14:45:00</td>\n",
              "      <td>16:30:00</td>\n",
              "      <td>Diet Cola</td>\n",
              "      <td>600 ml</td>\n",
              "      <td>60</td>\n",
              "      <td>12</td>\n",
              "      <td>15</td>\n",
              "      <td>Other</td>\n",
              "      <td>No</td>\n",
              "      <td>1.750000</td>\n",
              "    </tr>\n",
              "    <tr>\n",
              "      <th>63</th>\n",
              "      <td>2024-09-02</td>\n",
              "      <td>CO-2L</td>\n",
              "      <td>422146</td>\n",
              "      <td>Charlie</td>\n",
              "      <td>16:50:00</td>\n",
              "      <td>19:30:00</td>\n",
              "      <td>Cola</td>\n",
              "      <td>2000 ml</td>\n",
              "      <td>98</td>\n",
              "      <td>12</td>\n",
              "      <td>7</td>\n",
              "      <td>Other</td>\n",
              "      <td>No</td>\n",
              "      <td>2.666667</td>\n",
              "    </tr>\n",
              "  </tbody>\n",
              "</table>\n",
              "<p>64 rows × 14 columns</p>\n",
              "</div>"
            ],
            "text/plain": [
              "         Date Product   Batch Operator Start Time  End Time      Flavor  \\\n",
              "0  2024-08-29  OR-600  422111      Mac   11:50:00  14:05:00      Orange   \n",
              "1  2024-08-29  LE-600  422112      Mac   14:05:00  15:45:00  Lemon lime   \n",
              "2  2024-08-29  LE-600  422113      Mac   15:45:00  17:35:00  Lemon lime   \n",
              "3  2024-08-29  LE-600  422117  Charlie   21:39:00  22:54:00  Lemon lime   \n",
              "4  2024-08-31  CO-600  422130      Dee   07:45:00  09:05:00        Cola   \n",
              "..        ...     ...     ...      ...        ...       ...         ...   \n",
              "59 2024-08-30  CO-600  422129  Charlie   22:14:00  23:29:00        Cola   \n",
              "60 2024-08-30  CO-600  422118      Dee   04:05:00  06:05:00        Cola   \n",
              "61 2024-09-02  RB-600  422141   Dennis   07:43:00  08:50:00  Root Berry   \n",
              "62 2024-08-31  DC-600  422135      Mac   14:45:00  16:30:00   Diet Cola   \n",
              "63 2024-09-02   CO-2L  422146  Charlie   16:50:00  19:30:00        Cola   \n",
              "\n",
              "       Size  Min batch time  Factor  Duration   Description OperatorError  \\\n",
              "0    600 ml              60       2        60  Batch change           Yes   \n",
              "1    600 ml              60       2        20  Batch change           Yes   \n",
              "2    600 ml              60       2        50  Batch change           Yes   \n",
              "3    600 ml              60       2        10  Batch change           Yes   \n",
              "4    600 ml              60       2        20  Batch change           Yes   \n",
              "..      ...             ...     ...       ...           ...           ...   \n",
              "59   600 ml              60      12        15         Other            No   \n",
              "60   600 ml              60      12        20         Other            No   \n",
              "61   600 ml              60      12         7         Other            No   \n",
              "62   600 ml              60      12        15         Other            No   \n",
              "63  2000 ml              98      12         7         Other            No   \n",
              "\n",
              "        Hour  \n",
              "0   2.250000  \n",
              "1   1.666667  \n",
              "2   1.833333  \n",
              "3   1.250000  \n",
              "4   1.333333  \n",
              "..       ...  \n",
              "59  1.250000  \n",
              "60  2.000000  \n",
              "61  1.116667  \n",
              "62  1.750000  \n",
              "63  2.666667  \n",
              "\n",
              "[64 rows x 14 columns]"
            ]
          },
          "execution_count": 75,
          "metadata": {},
          "output_type": "execute_result"
        }
      ],
      "source": [
        "df"
      ]
    },
    {
      "cell_type": "code",
      "execution_count": null,
      "id": "ef4b144a",
      "metadata": {
        "id": "ef4b144a",
        "outputId": "d02e84dd-fb8d-408e-ed94-0855a4844406"
      },
      "outputs": [
        {
          "name": "stdout",
          "output_type": "stream",
          "text": [
            "<class 'pandas.core.frame.DataFrame'>\n",
            "RangeIndex: 64 entries, 0 to 63\n",
            "Data columns (total 14 columns):\n",
            " #   Column          Non-Null Count  Dtype         \n",
            "---  ------          --------------  -----         \n",
            " 0   Date            64 non-null     datetime64[ns]\n",
            " 1   Product         64 non-null     object        \n",
            " 2   Batch           64 non-null     int64         \n",
            " 3   Operator        64 non-null     object        \n",
            " 4   Start Time      64 non-null     object        \n",
            " 5   End Time        64 non-null     object        \n",
            " 6   Flavor          64 non-null     object        \n",
            " 7   Size            64 non-null     object        \n",
            " 8   Min batch time  64 non-null     int64         \n",
            " 9   Factor          64 non-null     int64         \n",
            " 10  Duration        64 non-null     int64         \n",
            " 11  Description     64 non-null     object        \n",
            " 12  OperatorError   64 non-null     object        \n",
            " 13  Hour            64 non-null     float64       \n",
            "dtypes: datetime64[ns](1), float64(1), int64(4), object(8)\n",
            "memory usage: 7.1+ KB\n"
          ]
        }
      ],
      "source": [
        "df.info()"
      ]
    },
    {
      "cell_type": "code",
      "execution_count": null,
      "id": "b72ba7b1",
      "metadata": {
        "id": "b72ba7b1",
        "outputId": "cda7571c-b517-460e-d9bc-9f4d2ab40985"
      },
      "outputs": [
        {
          "data": {
            "text/plain": [
              "Date              0\n",
              "Product           0\n",
              "Batch             0\n",
              "Operator          0\n",
              "Start Time        0\n",
              "End Time          0\n",
              "Flavor            0\n",
              "Size              0\n",
              "Min batch time    0\n",
              "Factor            0\n",
              "Duration          0\n",
              "Description       0\n",
              "OperatorError     0\n",
              "Hour              0\n",
              "dtype: int64"
            ]
          },
          "execution_count": 77,
          "metadata": {},
          "output_type": "execute_result"
        }
      ],
      "source": [
        "df.isnull().sum()"
      ]
    },
    {
      "cell_type": "code",
      "execution_count": null,
      "id": "0d20af25",
      "metadata": {
        "id": "0d20af25"
      },
      "outputs": [],
      "source": [
        "# Convert time columns to datetime and calculate duration\n",
        "df['Start Time'] = pd.to_datetime(df['Start Time'])\n",
        "df['End Time'] = pd.to_datetime(df['End Time'])\n",
        "df['Duration'] = (df['End Time'] - df['Start Time']).dt.total_seconds() / 60"
      ]
    },
    {
      "cell_type": "markdown",
      "id": "e02ab667",
      "metadata": {
        "id": "e02ab667"
      },
      "source": [
        "# Select features and target\n",
        "\n",
        "\n"
      ]
    },
    {
      "cell_type": "code",
      "execution_count": null,
      "id": "0437f8c2",
      "metadata": {
        "id": "0437f8c2"
      },
      "outputs": [],
      "source": [
        "features = ['Hour', 'Factor', 'Min batch time']\n",
        "X = df[features]\n",
        "y = df['Duration']\n"
      ]
    },
    {
      "cell_type": "markdown",
      "id": "f540e918",
      "metadata": {
        "id": "f540e918"
      },
      "source": [
        "# Split data\n"
      ]
    },
    {
      "cell_type": "code",
      "execution_count": null,
      "id": "1014be73",
      "metadata": {
        "id": "1014be73"
      },
      "outputs": [],
      "source": [
        "X_train, X_test, y_train, y_test = train_test_split(X, y, test_size=0.2, random_state=42)\n"
      ]
    },
    {
      "cell_type": "markdown",
      "id": "bb39b104",
      "metadata": {
        "id": "bb39b104"
      },
      "source": [
        "# Initialize model\n"
      ]
    },
    {
      "cell_type": "code",
      "execution_count": null,
      "id": "ed46e5ad",
      "metadata": {
        "id": "ed46e5ad",
        "outputId": "b1b850d9-df93-4106-b662-f05d1015e562"
      },
      "outputs": [
        {
          "name": "stdout",
          "output_type": "stream",
          "text": [
            "Best Parameters: {'colsample_bytree': 0.8, 'learning_rate': 0.3, 'max_depth': 3, 'n_estimators': 300, 'subsample': 1.0}\n",
            "Optimized Mean Squared Error: 31.40\n",
            "Optimized R² Score: 0.97\n",
            "Optimized Accuracy: 97.45%\n",
            "Cross-validated Mean Squared Error: 4574.63\n"
          ]
        }
      ],
      "source": [
        "\n",
        "xgb_model = XGBRegressor(objective='reg:squarederror', random_state=42)\n",
        "\n",
        "param_grid = {\n",
        "    'n_estimators': [100, 200, 300],\n",
        "    'learning_rate': [0.01, 0.1, 0.3],\n",
        "    'max_depth': [3, 5, 7],\n",
        "    'subsample': [0.8, 1.0],\n",
        "    'colsample_bytree': [0.8, 1.0],\n",
        "}\n",
        "\n",
        "grid_search = GridSearchCV(xgb_model, param_grid, cv=5, scoring='neg_mean_squared_error', n_jobs=-1)\n",
        "grid_search.fit(X_train, y_train)\n",
        "\n",
        "print(f\"Best Parameters: {grid_search.best_params_}\")\n",
        "\n",
        "best_model = grid_search.best_estimator_\n",
        "predictions = best_model.predict(X_test)\n",
        "mse = mean_squared_error(y_test, predictions)\n",
        "r2 = r2_score(y_test, predictions)\n",
        "accuracy = r2 * 100\n",
        "\n",
        "print(f\"Optimized Mean Squared Error: {mse:.2f}\")\n",
        "print(f\"Optimized R² Score: {r2:.2f}\")\n",
        "print(f\"Optimized Accuracy: {accuracy:.2f}%\")\n",
        "\n",
        "cv_scores = cross_val_score(best_model, X, y, cv=5, scoring='neg_mean_squared_error')\n",
        "print(f\"Cross-validated Mean Squared Error: {-cv_scores.mean():.2f}\")\n",
        "\n",
        "\n"
      ]
    },
    {
      "cell_type": "markdown",
      "id": "4e2351ff",
      "metadata": {
        "id": "4e2351ff"
      },
      "source": [
        "# Visualization\n"
      ]
    },
    {
      "cell_type": "code",
      "execution_count": null,
      "id": "fb8c328e",
      "metadata": {
        "id": "fb8c328e",
        "outputId": "0cd22faa-6358-4008-fe07-94c5172c427d"
      },
      "outputs": [
        {
          "data": {
            "image/png": "[encoded data removed]",
            "text/plain": [
              "<Figure size 1000x500 with 1 Axes>"
            ]
          },
          "metadata": {},
          "output_type": "display_data"
        }
      ],
      "source": [
        "plt.figure(figsize=(10, 5))\n",
        "plt.scatter(y_test, predictions, alpha=0.6, label='Predictions')\n",
        "plt.plot([min(y_test), max(y_test)], [min(y_test), max(y_test)], color='red', linestyle='--', label='Ideal Prediction')\n",
        "plt.xlabel(\"Actual Downtime (minutes)\")\n",
        "plt.ylabel(\"Predicted Downtime\")\n",
        "plt.title(\"Actual vs Predicted Downtime Comparison\")\n",
        "plt.legend()\n",
        "plt.grid(True)\n",
        "plt.show()\n",
        "\n"
      ]
    },
    {
      "cell_type": "code",
      "execution_count": null,
      "id": "b7c68475",
      "metadata": {
        "id": "b7c68475"
      },
      "outputs": [],
      "source": []
    }
  ],
  "metadata": {
    "kernelspec": {
      "display_name": "Python 3",
      "language": "python",
      "name": "python3"
    },
    "language_info": {
      "codemirror_mode": {
        "name": "ipython",
        "version": 3
      },
      "file_extension": ".py",
      "mimetype": "text/x-python",
      "name": "python",
      "nbconvert_exporter": "python",
      "pygments_lexer": "ipython3",
      "version": "3.13.2"
    },
    "colab": {
      "provenance": [],
      "toc_visible": true,
      "include_colab_link": true
    }
  },
  "nbformat": 4,
  "nbformat_minor": 5
}